{
 "cells": [
  {
   "cell_type": "code",
   "execution_count": null,
   "id": "0e971f6d",
   "metadata": {},
   "outputs": [],
   "source": [
    "#!/bin/python3\n",
    "\n",
    "import math\n",
    "import os\n",
    "import random\n",
    "import re\n",
    "import sys\n",
    "\n",
    "#\n",
    "# Complete the 'countingValleys' function below.\n",
    "#\n",
    "# The function is expected to return an INTEGER.\n",
    "# The function accepts following parameters:\n",
    "#  1. INTEGER steps\n",
    "#  2. STRING path\n",
    "#\n",
    "\n",
    "def countingValleys(steps, path):\n",
    "    valley = 0 # Initialize valley variable to count no of valleys\n",
    "    SD = 0 # Initialize variable to count no of Steps Down\n",
    "    SU = 0 # Initialize variable to count no of Steps Up\n",
    "    \n",
    "    for i in path: # to get each element of string in path and performin action on same\n",
    "        if i == \"U\": #if value of step is U i.e Up\n",
    "            SU = SU+1 #adding 1 x step up\n",
    "            if SU-SD == 0: #if on sea level\n",
    "                valley = valley+1 #adding one valley\n",
    "        elif i == \"D\": #if value of step is D i.e Down\n",
    "            SD = SD+1 #adding 1 x step Down\n",
    "    return valley #returning total nos of valleys\n",
    "          \n",
    "\n",
    "if __name__ == '__main__':\n",
    "    fptr = open(os.environ['OUTPUT_PATH'], 'w')\n",
    "\n",
    "    steps = int(input().strip())\n",
    "\n",
    "    path = input()\n",
    "\n",
    "    result = countingValleys(steps, path)\n",
    "\n",
    "    fptr.write(str(result) + '\\n')\n",
    "\n",
    "    fptr.close()"
   ]
  }
 ],
 "metadata": {
  "kernelspec": {
   "display_name": "Python 3 (ipykernel)",
   "language": "python",
   "name": "python3"
  },
  "language_info": {
   "codemirror_mode": {
    "name": "ipython",
    "version": 3
   },
   "file_extension": ".py",
   "mimetype": "text/x-python",
   "name": "python",
   "nbconvert_exporter": "python",
   "pygments_lexer": "ipython3",
   "version": "3.9.7"
  }
 },
 "nbformat": 4,
 "nbformat_minor": 5
}
