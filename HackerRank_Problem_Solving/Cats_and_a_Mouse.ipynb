{
 "cells": [
  {
   "cell_type": "code",
   "execution_count": null,
   "metadata": {},
   "outputs": [],
   "source": [
    "#!/bin/python3\n",
    "\n",
    "import math\n",
    "import os\n",
    "import random\n",
    "import re\n",
    "import sys\n",
    "\n",
    "# Complete the catAndMouse function below.\n",
    "def catAndMouse(x, y, z):\n",
    "    DistA = abs(x-z) # return the distance of mouse from CatA\n",
    "    DistB = abs(y-z) # return the distance of mouse from CatB\n",
    "    if DistA < DistB:\n",
    "        Winner = \"Cat A\"\n",
    "    elif DistB < DistA:\n",
    "        Winner = \"Cat B\"\n",
    "    else:\n",
    "        Winner = \"Mouse C\"\n",
    "    return Winner\n",
    "\n",
    "if __name__ == '__main__':\n",
    "    fptr = open(os.environ['OUTPUT_PATH'], 'w')\n",
    "\n",
    "    q = int(input())\n",
    "\n",
    "    for q_itr in range(q):\n",
    "        xyz = input().split()\n",
    "\n",
    "        x = int(xyz[0])\n",
    "\n",
    "        y = int(xyz[1])\n",
    "\n",
    "        z = int(xyz[2])\n",
    "\n",
    "        result = catAndMouse(x, y, z)\n",
    "\n",
    "        fptr.write(result + '\\n')\n",
    "\n",
    "    fptr.close()\n"
   ]
  }
 ],
 "metadata": {
  "language_info": {
   "name": "python"
  },
  "orig_nbformat": 4
 },
 "nbformat": 4,
 "nbformat_minor": 2
}
